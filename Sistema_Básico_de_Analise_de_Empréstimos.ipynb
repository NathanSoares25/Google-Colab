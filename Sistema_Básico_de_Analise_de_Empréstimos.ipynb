{
  "nbformat": 4,
  "nbformat_minor": 0,
  "metadata": {
    "colab": {
      "name": "Sistema Básico de Analise de Empréstimos.ipynb",
      "provenance": [],
      "collapsed_sections": [],
      "authorship_tag": "ABX9TyMe7yfCIMM4liD29x6hihmH",
      "include_colab_link": true
    },
    "kernelspec": {
      "name": "python3",
      "display_name": "Python 3"
    },
    "language_info": {
      "name": "python"
    }
  },
  "cells": [
    {
      "cell_type": "markdown",
      "metadata": {
        "id": "view-in-github",
        "colab_type": "text"
      },
      "source": [
        "<a href=\"https://colab.research.google.com/github/NathanSoares25/Google-Colab/blob/main/Sistema_B%C3%A1sico_de_Analise_de_Empr%C3%A9stimos.ipynb\" target=\"_parent\"><img src=\"https://colab.research.google.com/assets/colab-badge.svg\" alt=\"Open In Colab\"/></a>"
      ]
    },
    {
      "cell_type": "markdown",
      "metadata": {
        "id": "1UiIKrVwLfHR"
      },
      "source": [
        "### Sistema Básico de Analise de Empréstimos"
      ]
    },
    {
      "cell_type": "markdown",
      "metadata": {
        "id": "kkhcq0OHLuvn"
      },
      "source": [
        "Um pequeno sistema que faz a visualização dos tipos de clientes que solicitam emprestimo ao banco"
      ]
    },
    {
      "cell_type": "code",
      "metadata": {
        "id": "MQW-mU-VMEQn"
      },
      "source": [
        "#Importando bibliotecas\n",
        "import pandas as pnd \n",
        "import seaborn as sea\n"
      ],
      "execution_count": null,
      "outputs": []
    },
    {
      "cell_type": "code",
      "metadata": {
        "id": "R5Lw4DMEMOvK"
      },
      "source": [
        "#Importando os dados\n",
        "clientes = pnd.read_csv('/content/clientes.csv')"
      ],
      "execution_count": null,
      "outputs": []
    },
    {
      "cell_type": "code",
      "metadata": {
        "id": "VMHoUxmaMqt4"
      },
      "source": [
        "#Total de linhas e colunas\n",
        "clientes.shape"
      ],
      "execution_count": null,
      "outputs": []
    },
    {
      "cell_type": "markdown",
      "metadata": {
        "id": "nHed4ecZNEtV"
      },
      "source": [
        "Os dados contém 614 linhas e 13 colunas para visualizar"
      ]
    },
    {
      "cell_type": "code",
      "metadata": {
        "id": "lOZ-qoQHM3N8"
      },
      "source": [
        "#Informações da tabela\n",
        "clientes.info"
      ],
      "execution_count": null,
      "outputs": []
    },
    {
      "cell_type": "code",
      "metadata": {
        "id": "Jl3Ijj6cN8BJ"
      },
      "source": [
        "#Verifica se há valores duplicados\n",
        "clientes.duplicated().sum()"
      ],
      "execution_count": null,
      "outputs": []
    },
    {
      "cell_type": "code",
      "metadata": {
        "id": "MbG0Sh6mOLhE"
      },
      "source": [
        "#Verifica se há valores nulos\n",
        "clientes.isnull().sum()"
      ],
      "execution_count": null,
      "outputs": []
    },
    {
      "cell_type": "markdown",
      "metadata": {
        "id": "e836H58DO1S_"
      },
      "source": [
        "#Criando gráficos para visualização"
      ]
    },
    {
      "cell_type": "code",
      "metadata": {
        "id": "jVjneNl0OW45"
      },
      "source": [
        "#Estatistica das variáveis númericas\n",
        "clientes.describe"
      ],
      "execution_count": null,
      "outputs": []
    },
    {
      "cell_type": "code",
      "metadata": {
        "id": "U2hBD-zAPJCN"
      },
      "source": [
        "#Gráfico de Barras para categorias\n",
        "sea.countplot(clientes['historico_credito'])"
      ],
      "execution_count": null,
      "outputs": []
    },
    {
      "cell_type": "code",
      "metadata": {
        "id": "fqHnlUO9P9IU"
      },
      "source": [
        "#Gráfico de Barras para categorias\n",
        "sea.countplot(clientes['sexo'])"
      ],
      "execution_count": null,
      "outputs": []
    },
    {
      "cell_type": "code",
      "metadata": {
        "id": "M1LrB-NhQQe0"
      },
      "source": [
        "#Gráfico de Barras para categorias\n",
        "sea.countplot(clientes['educacao'])"
      ],
      "execution_count": null,
      "outputs": []
    },
    {
      "cell_type": "code",
      "metadata": {
        "id": "bZ903hCZQk6r"
      },
      "source": [
        "#Gráfico de Barras para categorias\n",
        "sea.countplot(clientes['aprovacao_emprestimo'])"
      ],
      "execution_count": null,
      "outputs": []
    },
    {
      "cell_type": "code",
      "metadata": {
        "id": "PEBhqPJBQ5Hn"
      },
      "source": [
        "#Gráfico de Barras para categorias\n",
        "sea.countplot(clientes['imovel'])"
      ],
      "execution_count": null,
      "outputs": []
    },
    {
      "cell_type": "code",
      "metadata": {
        "id": "GDt68ewLRtSO"
      },
      "source": [
        "#Gráfico de Barras para categorias\n",
        "sea.countplot(clientes['dependentes'])"
      ],
      "execution_count": null,
      "outputs": []
    },
    {
      "cell_type": "code",
      "metadata": {
        "id": "UnKovIWqR3NF"
      },
      "source": [
        "sea.countplot(clientes['empregado'])"
      ],
      "execution_count": null,
      "outputs": []
    }
  ]
}